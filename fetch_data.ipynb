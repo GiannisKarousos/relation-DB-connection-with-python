{
 "cells": [
  {
   "cell_type": "code",
   "execution_count": null,
   "id": "de5e17a8",
   "metadata": {},
   "outputs": [],
   "source": [
    "import mysql.connector\n",
    "import pandas as pd\n",
    "import datetime"
   ]
  },
  {
   "cell_type": "code",
   "execution_count": null,
   "id": "7019e1a0",
   "metadata": {},
   "outputs": [],
   "source": [
    "def connect_to_db():\n",
    "    \n",
    "    print('Connecting to Master Database..')\n",
    "    \n",
    "    try:\n",
    "        mydb = mysql.connector.connect(\n",
    "          host=\"xxx.xxx.com\",\n",
    "          user=\"xxx\",\n",
    "          password=\"xxx\",\n",
    "          database=\"pr_master_db\",\n",
    "          port=xxx\n",
    "        )\n",
    "        \n",
    "    except mysql.connector.Error as error:\n",
    "        print(\"Failed to connect to MySQL database: {}\".format(error))\n",
    "    else:\n",
    "        print('Succefully connected to Db!')\n",
    "        return mydb"
   ]
  },
  {
   "cell_type": "code",
   "execution_count": null,
   "id": "36e4d354",
   "metadata": {},
   "outputs": [],
   "source": [
    "def define_query():\n",
    "    \n",
    "\t\n",
    "\tquery = f\"\"\"SELECT requests.date, products_info.id as PID, products_info.rel_ean, requests.shop_id,  competitors.name, g.url, tracks.created_at\n",
    "\t\tfrom requests\n",
    "\t\tINNER join competitors ON competitors.id= requests.shop_id and competitors.active = 1\n",
    "\t\tINNER JOIN products_info ON products_info.rel_sku = requests.identity and products_info.shop_id = requests.shop_id\n",
    "\t\tINNER JOIN tracks ON tracks.product_id = products_info.id\n",
    "\t\t\t\t\t\t\t\tAND tracks.selector_id =(select selector.id from selector WHERE selector.competitor_id= requests.shop_id)\n",
    "\t\tleft join tracks as g on g.product_id = products_info.id and g.selector_id = (\n",
    "\t\t\tselect selector.id from selector inner join competitors on competitors.id = selector.competitor_id and competitors.`name` = concat('google.', '{country_code}')\n",
    "\t\t)\n",
    "\t\twhere requests.shop_id in (\n",
    "\t\t\t\t\t\t\tselect competitors.id\n",
    "\t\t\t\t\t\t\tfrom competitors\n",
    "\t\t\t\t\t\t\tinner join selector on selector.competitor_id = competitors.id\n",
    "\t\t\t\t\t\t\tinner join selector_country_codes on selector_country_codes.id = selector.country_code  and  selector_country_codes.country_code = '{country_code}'\n",
    "\t\t\t\t\t\t\twhere competitors.active = 1\n",
    "\t\t)\n",
    "\t\tAND (week(requests.date) = WEEK(NOW()) OR week(requests.date) = WEEK(NOW())-1)\n",
    "\t\tAND year(requests.date) = YEAR(NOW())\n",
    "\t\tAND rel_ean NOT LIKE '20000%'\n",
    "\t\tAND rel_ean NOT LIKE '24000%'\n",
    "\t\tAND rel_ean > 0\n",
    "\t\tAND ROUND(DATEDIFF(requests.date,tracks.created_at)/30,0)<=6\"\"\"\n",
    "    \n",
    "\treturn query"
   ]
  },
  {
   "cell_type": "code",
   "execution_count": null,
   "id": "db63c60d",
   "metadata": {},
   "outputs": [],
   "source": [
    "def run_query(query,mydb):\n",
    "    \n",
    "    # create a cursor object\n",
    "    mycursor = mydb.cursor()\n",
    "\n",
    "    # execute a SQL query\n",
    "    mycursor.execute(query)\n",
    "    # fetch the results\n",
    "    results = mycursor.fetchall()\n",
    "    mydb.close()\n",
    "    \n",
    "    print(f'\\nFetched Data at: {datetime.datetime.now().strftime(\"%Y-%m-%d %H:%M:%S\")}')\n",
    "\n",
    "    df = pd.DataFrame(results)\n",
    "    df.columns = mycursor.column_names   \n",
    "    print(f'Total Rows: {df.shape[0] - 1}')\n",
    "        \n",
    "\n",
    "    return df"
   ]
  },
  {
   "cell_type": "code",
   "execution_count": null,
   "id": "3e6b9787",
   "metadata": {},
   "outputs": [],
   "source": [
    "def export_csv(df):\n",
    "    \n",
    "    df.to_csv('fetced_data.csv', encoding='utf-8', index=False)\n",
    "    print('\\nData exported to file named: fetced_data.csv\\n\\n')\n"
   ]
  },
  {
   "cell_type": "code",
   "execution_count": null,
   "id": "daaf882f",
   "metadata": {},
   "outputs": [],
   "source": [
    "def main():    \n",
    "    mydb = connect_to_db()\n",
    "    df = run_query(define_query(),mydb)\n",
    "    export_csv(df)"
   ]
  },
  {
   "cell_type": "code",
   "execution_count": null,
   "id": "f11e15f5",
   "metadata": {},
   "outputs": [],
   "source": [
    "if __name__ == \"__main__\":\n",
    "    main()"
   ]
  },
  {
   "cell_type": "code",
   "execution_count": null,
   "id": "31a082d9",
   "metadata": {},
   "outputs": [],
   "source": []
  }
 ],
 "metadata": {
  "kernelspec": {
   "display_name": "Python 3 (ipykernel)",
   "language": "python",
   "name": "python3"
  },
  "language_info": {
   "codemirror_mode": {
    "name": "ipython",
    "version": 3
   },
   "file_extension": ".py",
   "mimetype": "text/x-python",
   "name": "python",
   "nbconvert_exporter": "python",
   "pygments_lexer": "ipython3",
   "version": "3.11.3"
  }
 },
 "nbformat": 4,
 "nbformat_minor": 5
}
